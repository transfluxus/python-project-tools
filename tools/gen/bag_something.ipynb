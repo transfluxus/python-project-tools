{
 "cells": [
  {
   "cell_type": "code",
   "id": "initial_id",
   "metadata": {
    "collapsed": true,
    "ExecuteTime": {
     "end_time": "2024-10-31T17:24:35.115103Z",
     "start_time": "2024-10-31T17:24:35.110726Z"
    }
   },
   "source": [
    "import os\n",
    "import shutil\n",
    "\n",
    "import bagit\n"
   ],
   "outputs": [],
   "execution_count": 5
  },
  {
   "metadata": {},
   "cell_type": "code",
   "outputs": [],
   "execution_count": null,
   "source": [
    "\n",
    "os.mkdir(\"BAG_archiveteam-twitter-stream-2022-08\")\n",
    "bag = bagit.make_bag(\"BAG_archiveteam-twitter-stream-2022-08\")"
   ],
   "id": "f785783697ba522e"
  },
  {
   "metadata": {
    "ExecuteTime": {
     "end_time": "2024-10-31T17:24:38.873176Z",
     "start_time": "2024-10-31T17:24:38.868612Z"
    }
   },
   "cell_type": "code",
   "source": [
    "shutil.move(\"/home/rsoleyma/Downloads/archiveteam-twitter-stream-2022-08\",\n",
    "            \"BAG_archiveteam-twitter-stream-2022-08/data\")"
   ],
   "id": "e1807514f04c081b",
   "outputs": [
    {
     "data": {
      "text/plain": [
       "'first_bag/data/archiveteam-twitter-stream-2022-08'"
      ]
     },
     "execution_count": 6,
     "metadata": {},
     "output_type": "execute_result"
    }
   ],
   "execution_count": 6
  },
  {
   "metadata": {
    "ExecuteTime": {
     "end_time": "2024-10-31T17:27:57.535291Z",
     "start_time": "2024-10-31T17:25:15.671834Z"
    }
   },
   "cell_type": "code",
   "source": "bag.save(manifests=True)",
   "id": "c287f06f0880f2fe",
   "outputs": [],
   "execution_count": 7
  },
  {
   "metadata": {
    "ExecuteTime": {
     "end_time": "2024-10-31T17:53:50.048146Z",
     "start_time": "2024-10-31T17:50:57.982861Z"
    }
   },
   "cell_type": "code",
   "source": [
    "from bagit import Bag\n",
    "\n",
    "Bag(\"BAG_archiveteam-twitter-stream-2022-08\").validate()"
   ],
   "id": "56afdbbc5653f3fe",
   "outputs": [
    {
     "data": {
      "text/plain": [
       "True"
      ]
     },
     "execution_count": 11,
     "metadata": {},
     "output_type": "execute_result"
    }
   ],
   "execution_count": 11
  },
  {
   "metadata": {},
   "cell_type": "code",
   "outputs": [],
   "execution_count": null,
   "source": "",
   "id": "1aa5b6208fc31dd1"
  }
 ],
 "metadata": {
  "kernelspec": {
   "display_name": "Python 3",
   "language": "python",
   "name": "python3"
  },
  "language_info": {
   "codemirror_mode": {
    "name": "ipython",
    "version": 2
   },
   "file_extension": ".py",
   "mimetype": "text/x-python",
   "name": "python",
   "nbconvert_exporter": "python",
   "pygments_lexer": "ipython2",
   "version": "2.7.6"
  }
 },
 "nbformat": 4,
 "nbformat_minor": 5
}
